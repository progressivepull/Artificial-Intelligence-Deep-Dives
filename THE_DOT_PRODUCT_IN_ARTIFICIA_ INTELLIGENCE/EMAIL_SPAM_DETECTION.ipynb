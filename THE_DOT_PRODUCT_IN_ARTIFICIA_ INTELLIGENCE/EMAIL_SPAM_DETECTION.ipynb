{
 "cells": [
  {
   "cell_type": "code",
   "execution_count": 1,
   "id": "842ee75c",
   "metadata": {},
   "outputs": [],
   "source": [
    "def count_words_in_file(filename, word_list):\n",
    "    word_count = {word.lower(): 0 for word in word_list}\n",
    "    \n",
    "    try:\n",
    "        with open(filename, 'r', encoding='utf-8') as file:\n",
    "            for line in file:\n",
    "                words = line.lower().split()\n",
    "                for word in words:\n",
    "                    if word in word_count:\n",
    "                        word_count[word] += 1\n",
    "    except FileNotFoundError:\n",
    "        print(f\"File '{filename}' not found.\")\n",
    "        return None\n",
    "\n",
    "    return word_count"
   ]
  },
  {
   "cell_type": "code",
   "execution_count": 3,
   "id": "e88549d8",
   "metadata": {},
   "outputs": [
    {
     "name": "stdout",
     "output_type": "stream",
     "text": [
      "'lottery' appears 4 times.\n",
      "'now' appears 5 times.\n",
      "'free' appears 1 times.\n"
     ]
    }
   ],
   "source": [
    "# Example usage\n",
    "filename = \"spam_email.txt\"\n",
    "words_to_count = [\"lottery\", \"now\", \"free\"]\n",
    "result = count_words_in_file(filename, words_to_count)\n",
    "\n",
    "if result:\n",
    "    for word, count in result.items():\n",
    "        print(f\"'{word}' appears {count} times.\")"
   ]
  },
  {
   "cell_type": "code",
   "execution_count": null,
   "id": "732197a4",
   "metadata": {},
   "outputs": [],
   "source": []
  }
 ],
 "metadata": {
  "kernelspec": {
   "display_name": "Python 3 (ipykernel)",
   "language": "python",
   "name": "python3"
  },
  "language_info": {
   "codemirror_mode": {
    "name": "ipython",
    "version": 3
   },
   "file_extension": ".py",
   "mimetype": "text/x-python",
   "name": "python",
   "nbconvert_exporter": "python",
   "pygments_lexer": "ipython3",
   "version": "3.11.5"
  }
 },
 "nbformat": 4,
 "nbformat_minor": 5
}
